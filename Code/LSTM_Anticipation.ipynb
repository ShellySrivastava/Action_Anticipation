{
  "nbformat": 4,
  "nbformat_minor": 0,
  "metadata": {
    "colab": {
      "name": "DLSTM_Anticipation.ipynb",
      "provenance": []
    },
    "kernelspec": {
      "name": "python3",
      "display_name": "Python 3"
    }
  },
  "cells": [
    {
      "cell_type": "markdown",
      "metadata": {
        "id": "0tczGg3ZoBnn",
        "colab_type": "text"
      },
      "source": [
        "Acticipate Dataset"
      ]
    },
    {
      "cell_type": "code",
      "metadata": {
        "id": "KkP9JhtKoSav",
        "colab_type": "code",
        "colab": {}
      },
      "source": [
        "from torch.utils.data import Dataset\n",
        "import cv2\n",
        "import pandas as pd\n",
        "import torch\n",
        "from torch.nn.utils.rnn import pad_sequence\n",
        "import h5py\n",
        "import numpy as np\n",
        "\n",
        "\n",
        "class ActicipateDataset(Dataset):\n",
        "\n",
        "    def __init__(self, is_batch = True):\n",
        "\n",
        "        self.is_batch = is_batch\n",
        "        self.head_positions = np.load('/content/drive/My Drive/head_key_points.npy')\n",
        "        self.body_positions = np.load('/content/drive/My Drive/body_key_points.npy')\n",
        "        self.ball_positions = np.load('/content/drive/My Drive/ball_key_points.npy')\n",
        "        self.frame_info = np.load('/content/drive/My Drive/frame_info.npy')\n",
        "        self.data_labels = np.load(\"/content/drive/My Drive/action_labels.npy\")[:,1]\n",
        "        # change the label of action class 12 to 0 for compatibility with cross entropy loss \n",
        "        self.data_labels[self.data_labels == 12] = 0\n",
        "\n",
        "\n",
        "    def __len__(self):\n",
        "        return self.frame_info.shape[0]\n",
        "\n",
        "    def __getitem__(self, id):\n",
        "        first, last = int(self.frame_info[id][0]), int(self.frame_info[id][1])+1\n",
        "        if self.is_batch == True:\n",
        "            if last >= first + 100:\n",
        "                last = first + 100\n",
        "                return self.head_positions[first:last], self.body_positions[first:last], self.ball_positions[first:last], self.data_labels[first:last]\n",
        "            else: \n",
        "                pad = first + 100 - last\n",
        "                return np.concatenate((self.head_positions[first:last], np.zeros((pad,12))), axis = 0), np.concatenate((self.body_positions[first:last], np.zeros((pad,12))), axis = 0), np.concatenate((self.ball_positions[first:last], np.zeros((pad,2))), axis = 0), np.concatenate((self.data_labels[first:last], np.ones((pad))*100), axis = 0)\n",
        "        else:\n",
        "            return self.head_positions[first:last], self.body_positions[first:last], self.ball_positions[first:last], self.data_labels[first:last]\n",
        "\n",
        "# Acticipate dataset is called with set batch to False\n",
        "# this means the sequences will not be truncated or padded to fit a batch\n",
        "# the data loader has to run with a batch_size of 1\n",
        "dataset = ActicipateDataset(False)\n",
        "train_size = int(0.8 * dataset.__len__())\n",
        "val_size = int(0.1 * dataset.__len__())\n",
        "test_size = dataset.__len__() - train_size - val_size\n",
        "train_dataset, val_dataset, test_dataset = torch.utils.data.random_split(dataset, [train_size, val_size, test_size])\n",
        "train_loader = torch.utils.data.DataLoader(train_dataset, batch_size=1, shuffle=True)\n",
        "val_loader = torch.utils.data.DataLoader(val_dataset, batch_size=1, shuffle=True)"
      ],
      "execution_count": null,
      "outputs": []
    },
    {
      "cell_type": "code",
      "metadata": {
        "id": "0yBYJbMxiDPd",
        "colab_type": "code",
        "colab": {}
      },
      "source": [
        "import torch\n",
        "import torch.nn as nn\n",
        "import torch.optim as optim\n",
        "\n",
        "import torch.nn.functional as F\n",
        "import numpy as np\n",
        "\n",
        "import random\n",
        "import math\n",
        "import time"
      ],
      "execution_count": null,
      "outputs": []
    },
    {
      "cell_type": "markdown",
      "metadata": {
        "id": "XvSVutqtoFJJ",
        "colab_type": "text"
      },
      "source": [
        "To get the source embedding as described in the paper Santos et al. (2019)"
      ]
    },
    {
      "cell_type": "code",
      "metadata": {
        "id": "4FozbY5tiGKH",
        "colab_type": "code",
        "colab": {}
      },
      "source": [
        "class get_embedding(nn.Module):\n",
        "    def __init__(self, dropout):\n",
        "        super().__init__()\n",
        "\n",
        "        self.input2emb_body = nn.Linear(12,16)\n",
        "        self.input2emb_head = nn.Linear(12,16)\n",
        "        self.input2emb_ball = nn.Linear(2,16)\n",
        "        self.input2emb_context = nn.Linear(32,16)\n",
        "        self.dropout = nn.Dropout(dropout)\n",
        "        \n",
        "    def forward(self, in_head, in_body, in_ball):\n",
        "\n",
        "        in_head = self.input2emb_head(in_head.float())\n",
        "        in_body = self.input2emb_body(in_body.float())\n",
        "        in_ball = self.input2emb_ball(in_ball.float())\n",
        "        in_context = self.input2emb_context(torch.cat((in_head, in_ball), 1))\n",
        "        embedding = torch.cat((in_body, in_context), 1)\n",
        "\n",
        "        embedded = self.dropout(embedding)\n",
        "      \n",
        "        return embedded"
      ],
      "execution_count": null,
      "outputs": []
    },
    {
      "cell_type": "markdown",
      "metadata": {
        "id": "XC84CPEfoUVz",
        "colab_type": "text"
      },
      "source": [
        "Get the deterministic LSTM model as described in Santos et al. (2019)"
      ]
    },
    {
      "cell_type": "code",
      "metadata": {
        "id": "4iDcoWmTiM70",
        "colab_type": "code",
        "colab": {}
      },
      "source": [
        "class LSTM_model(nn.Module):\n",
        "    def __init__(self, emb_dim, hid_dim, out_dim, dropout):\n",
        "        super().__init__()\n",
        "        self.hid_dim = hid_dim\n",
        "        self.out_dim = out_dim\n",
        "        self.input2emb = nn.Linear(32, emb_dim)\n",
        "        self.rnn1 = nn.LSTM(emb_dim, hid_dim, batch_first = True )\n",
        "        self.rnn2 = nn.LSTM(emb_dim, hid_dim, batch_first = True)\n",
        "        self.dropout = nn.Dropout(dropout)\n",
        "        self.fc_out = nn.Linear(hid_dim, out_dim)\n",
        "\n",
        "    def forward(self, embedded, h1, c1, h2, c2):\n",
        "\n",
        "        embedded = self.dropout(self.input2emb(embedded))\n",
        "        embedded.unsqueeze_(1)\n",
        "        output, (h1, c1) = self.rnn1(embedded, (h1, c1))\n",
        "        h1.permute(1,0,2)\n",
        "        output, (h2, c2) = self.rnn2(h1, (h2, c2))\n",
        "        prediction = self.fc_out(h2.squeeze(0))\n",
        "        return prediction, h1, c1, h2, c2\n"
      ],
      "execution_count": null,
      "outputs": []
    },
    {
      "cell_type": "markdown",
      "metadata": {
        "id": "5qiL2XKvoaLF",
        "colab_type": "text"
      },
      "source": [
        "Acticipate model to train the embeddings and LSTM model together"
      ]
    },
    {
      "cell_type": "code",
      "metadata": {
        "id": "a5BuQFGQiPlC",
        "colab_type": "code",
        "colab": {}
      },
      "source": [
        "class Anticipate_model(nn.Module):\n",
        "      def __init__(self, embedding, lstm_model):\n",
        "          super().__init__()\n",
        "          \n",
        "          self.embedding = embedding\n",
        "          self.lstm_model = lstm_model\n",
        "          self.hid_dim = self.lstm_model.hid_dim\n",
        "          self.out_dim = self.lstm_model.out_dim\n",
        "\n",
        "      def forward(self, inputs):\n",
        "          head, body, ball = inputs\n",
        "          batch_size = head.shape[0]\n",
        "          seq_len = head.shape[1]\n",
        "          outputs = torch.zeros(batch_size, seq_len, self.out_dim).cuda()\n",
        "          h1 = torch.zeros(1, batch_size, self.hid_dim).cuda()\n",
        "          c1 = torch.zeros(1, batch_size, self.hid_dim).cuda()\n",
        "          h2 = torch.zeros(1, batch_size, self.hid_dim).cuda()\n",
        "          c2 = torch.zeros(1, batch_size, self.hid_dim).cuda()\n",
        "          for i in range(seq_len):\n",
        "              embs = self.embedding(head[:,i,:], body[:,i,:], ball[:,i,:])\n",
        "              pred, h1, c1, h2, c2 = self.lstm_model(embs, h1,c1, h2, c2)\n",
        "              outputs[:,i,:] = pred\n",
        "          return outputs"
      ],
      "execution_count": null,
      "outputs": []
    },
    {
      "cell_type": "markdown",
      "metadata": {
        "id": "k9DtV5ErogE0",
        "colab_type": "text"
      },
      "source": [
        "Initialise the model"
      ]
    },
    {
      "cell_type": "code",
      "metadata": {
        "id": "mTXOblsniR4Q",
        "colab_type": "code",
        "colab": {}
      },
      "source": [
        "embedding = get_embedding(0.5).cuda()\n",
        "lstm = LSTM_model(64, 64, 12, 0.5).cuda()\n",
        "model = Anticipate_model(embedding, lstm).cuda()"
      ],
      "execution_count": null,
      "outputs": []
    },
    {
      "cell_type": "markdown",
      "metadata": {
        "id": "zni9Ez93ohmU",
        "colab_type": "text"
      },
      "source": [
        "Initialise the adam optimiser and LR scheduler"
      ]
    },
    {
      "cell_type": "code",
      "metadata": {
        "id": "0BQgPlSJiT1P",
        "colab_type": "code",
        "colab": {}
      },
      "source": [
        "optimizer = optim.Adam(model.parameters())\n",
        "lr_scheduler = optim.lr_scheduler.ReduceLROnPlateau(optimizer,'min', verbose=True, patience=5, factor = 0.1)\n",
        "\n",
        "criterion = nn.CrossEntropyLoss(ignore_index=100)"
      ],
      "execution_count": null,
      "outputs": []
    },
    {
      "cell_type": "markdown",
      "metadata": {
        "id": "Y7LC4G68om1i",
        "colab_type": "text"
      },
      "source": [
        "Training loop"
      ]
    },
    {
      "cell_type": "code",
      "metadata": {
        "id": "vnQDv3PkiWxG",
        "colab_type": "code",
        "colab": {}
      },
      "source": [
        "def train(model, iterator, optimizer, criterion, clip):\n",
        "\n",
        "    model.train()\n",
        "    \n",
        "    epoch_loss = 0\n",
        "    \n",
        "    for i, batch in enumerate(iterator):\n",
        "        \n",
        "        head, body, ball, trg = batch\n",
        "        head = head.cuda()\n",
        "        body = body.cuda()\n",
        "        ball = ball.cuda()\n",
        "      \n",
        "        trg = trg.long().cuda()\n",
        "        input_embs = (head, body, ball)\n",
        "        optimizer.zero_grad()\n",
        "        \n",
        "        output = model(input_embs)\n",
        "\n",
        "        output_dim = output.shape[-1]\n",
        "        \n",
        "        output = output.view(-1, output_dim)\n",
        "        trg = trg.view(-1)\n",
        "\n",
        "        loss = criterion(output, trg)\n",
        "        \n",
        "        loss.backward()\n",
        "        \n",
        "        torch.nn.utils.clip_grad_norm_(model.parameters(), clip)\n",
        "        \n",
        "        optimizer.step()\n",
        "        \n",
        "        epoch_loss += loss.item()\n",
        "        \n",
        "    return epoch_loss / len(iterator)"
      ],
      "execution_count": null,
      "outputs": []
    },
    {
      "cell_type": "markdown",
      "metadata": {
        "id": "BJ79e64boveb",
        "colab_type": "text"
      },
      "source": [
        "Evaluation loop"
      ]
    },
    {
      "cell_type": "code",
      "metadata": {
        "id": "vLkvH7IxiaVc",
        "colab_type": "code",
        "colab": {}
      },
      "source": [
        "def evaluate(model, iterator, criterion):\n",
        "\n",
        "    model.eval()\n",
        "    \n",
        "    epoch_loss = 0\n",
        "    \n",
        "    with torch.no_grad():\n",
        "    \n",
        "        for i, batch in enumerate(iterator):\n",
        "\n",
        "            head, body, ball, trg = batch\n",
        "            head = head.cuda()\n",
        "            body = body.cuda()\n",
        "            ball = ball.cuda()\n",
        "\n",
        "            trg = trg.long().cuda()\n",
        "            input_embs = (head, body, ball)\n",
        "            output = model(input_embs) \n",
        "\n",
        "            \n",
        "            output_dim = output.shape[-1]\n",
        "            \n",
        "            output = output.view(-1, output_dim)\n",
        "            trg = trg.view(-1)\n",
        "\n",
        "            loss = criterion(output, trg)\n",
        "            \n",
        "            epoch_loss += loss.item()\n",
        "        \n",
        "    return epoch_loss / len(iterator)"
      ],
      "execution_count": null,
      "outputs": []
    },
    {
      "cell_type": "code",
      "metadata": {
        "id": "m5gy606cic3C",
        "colab_type": "code",
        "colab": {}
      },
      "source": [
        "def epoch_time(start_time, end_time):\n",
        "    elapsed_time = end_time - start_time\n",
        "    elapsed_mins = int(elapsed_time / 60)\n",
        "    elapsed_secs = int(elapsed_time - (elapsed_mins * 60))\n",
        "    return elapsed_mins, elapsed_secs"
      ],
      "execution_count": null,
      "outputs": []
    },
    {
      "cell_type": "markdown",
      "metadata": {
        "id": "uShi2UN5o3JF",
        "colab_type": "text"
      },
      "source": [
        "Run the cell to train the model for the given epochs"
      ]
    },
    {
      "cell_type": "code",
      "metadata": {
        "id": "jtbVncBQifSh",
        "colab_type": "code",
        "colab": {
          "base_uri": "https://localhost:8080/",
          "height": 1000
        },
        "outputId": "cb269b9d-fbc6-4331-e840-59aeb389fd83"
      },
      "source": [
        "N_EPOCHS = 60\n",
        "CLIP = 0.1\n",
        "\n",
        "best_valid_loss = float('inf')\n",
        "\n",
        "for epoch in range(N_EPOCHS):\n",
        "    \n",
        "    start_time = time.time()\n",
        "    \n",
        "    train_loss = train(model, train_loader, optimizer, criterion, CLIP)\n",
        "    valid_loss = evaluate(model, val_loader, criterion)\n",
        "    \n",
        "    end_time = time.time()\n",
        "    \n",
        "    epoch_mins, epoch_secs = epoch_time(start_time, end_time)\n",
        "    lr_scheduler.step(valid_loss)\n",
        "    if valid_loss < best_valid_loss:\n",
        "        best_valid_loss = valid_loss\n",
        "        torch.save(model.state_dict(), '/content/drive/My Drive/DLSTM_best_val_final.pt')\n",
        "    \n",
        "    print(f'Epoch: {epoch+1:02} | Time: {epoch_mins}m {epoch_secs}s')\n",
        "    print(f'\\tTrain Loss: {train_loss:.3f}')\n",
        "    print(f'\\t Val. Loss: {valid_loss:.3f}')\n",
        "\n",
        "\n",
        "torch.save(model.state_dict(), '/content/drive/My Drive/DLSTM_epoch_end_final.pt')"
      ],
      "execution_count": null,
      "outputs": [
        {
          "output_type": "stream",
          "text": [
            "Epoch: 01 | Time: 0m 35s\n",
            "\tTrain Loss: 2.488\n",
            "\t Val. Loss: 2.600\n",
            "Epoch: 02 | Time: 0m 35s\n",
            "\tTrain Loss: 2.471\n",
            "\t Val. Loss: 2.443\n",
            "Epoch: 03 | Time: 0m 35s\n",
            "\tTrain Loss: 2.372\n",
            "\t Val. Loss: 2.178\n",
            "Epoch: 04 | Time: 0m 35s\n",
            "\tTrain Loss: 2.268\n",
            "\t Val. Loss: 2.266\n",
            "Epoch: 05 | Time: 0m 35s\n",
            "\tTrain Loss: 2.126\n",
            "\t Val. Loss: 1.952\n",
            "Epoch: 06 | Time: 0m 35s\n",
            "\tTrain Loss: 2.016\n",
            "\t Val. Loss: 1.556\n",
            "Epoch: 07 | Time: 0m 35s\n",
            "\tTrain Loss: 1.691\n",
            "\t Val. Loss: 1.603\n",
            "Epoch: 08 | Time: 0m 35s\n",
            "\tTrain Loss: 1.583\n",
            "\t Val. Loss: 2.071\n",
            "Epoch: 09 | Time: 0m 35s\n",
            "\tTrain Loss: 1.776\n",
            "\t Val. Loss: 1.635\n",
            "Epoch: 10 | Time: 0m 35s\n",
            "\tTrain Loss: 1.632\n",
            "\t Val. Loss: 1.485\n",
            "Epoch: 11 | Time: 0m 35s\n",
            "\tTrain Loss: 1.527\n",
            "\t Val. Loss: 1.241\n",
            "Epoch: 12 | Time: 0m 35s\n",
            "\tTrain Loss: 1.504\n",
            "\t Val. Loss: 1.245\n",
            "Epoch: 13 | Time: 0m 35s\n",
            "\tTrain Loss: 1.304\n",
            "\t Val. Loss: 1.558\n",
            "Epoch: 14 | Time: 0m 35s\n",
            "\tTrain Loss: 1.351\n",
            "\t Val. Loss: 0.899\n",
            "Epoch: 15 | Time: 0m 35s\n",
            "\tTrain Loss: 1.227\n",
            "\t Val. Loss: 1.030\n",
            "Epoch: 16 | Time: 0m 35s\n",
            "\tTrain Loss: 1.107\n",
            "\t Val. Loss: 0.679\n",
            "Epoch: 17 | Time: 0m 35s\n",
            "\tTrain Loss: 1.297\n",
            "\t Val. Loss: 1.314\n",
            "Epoch: 18 | Time: 0m 35s\n",
            "\tTrain Loss: 1.200\n",
            "\t Val. Loss: 1.078\n",
            "Epoch: 19 | Time: 0m 35s\n",
            "\tTrain Loss: 0.976\n",
            "\t Val. Loss: 0.624\n",
            "Epoch: 20 | Time: 0m 35s\n",
            "\tTrain Loss: 1.243\n",
            "\t Val. Loss: 1.019\n",
            "Epoch: 21 | Time: 0m 35s\n",
            "\tTrain Loss: 1.035\n",
            "\t Val. Loss: 0.585\n",
            "Epoch: 22 | Time: 0m 35s\n",
            "\tTrain Loss: 1.011\n",
            "\t Val. Loss: 0.539\n",
            "Epoch: 23 | Time: 0m 35s\n",
            "\tTrain Loss: 0.880\n",
            "\t Val. Loss: 0.658\n",
            "Epoch: 24 | Time: 0m 35s\n",
            "\tTrain Loss: 0.913\n",
            "\t Val. Loss: 0.764\n",
            "Epoch: 25 | Time: 0m 35s\n",
            "\tTrain Loss: 0.841\n",
            "\t Val. Loss: 0.668\n",
            "Epoch: 26 | Time: 0m 35s\n",
            "\tTrain Loss: 1.040\n",
            "\t Val. Loss: 0.467\n",
            "Epoch: 27 | Time: 0m 35s\n",
            "\tTrain Loss: 0.822\n",
            "\t Val. Loss: 0.496\n",
            "Epoch: 28 | Time: 0m 35s\n",
            "\tTrain Loss: 0.835\n",
            "\t Val. Loss: 0.682\n",
            "Epoch: 29 | Time: 0m 34s\n",
            "\tTrain Loss: 0.910\n",
            "\t Val. Loss: 0.528\n",
            "Epoch: 30 | Time: 0m 34s\n",
            "\tTrain Loss: 0.882\n",
            "\t Val. Loss: 0.398\n",
            "Epoch: 31 | Time: 0m 34s\n",
            "\tTrain Loss: 0.846\n",
            "\t Val. Loss: 0.411\n",
            "Epoch: 32 | Time: 0m 34s\n",
            "\tTrain Loss: 0.869\n",
            "\t Val. Loss: 0.556\n",
            "Epoch: 33 | Time: 0m 34s\n",
            "\tTrain Loss: 0.806\n",
            "\t Val. Loss: 0.897\n",
            "Epoch: 34 | Time: 0m 34s\n",
            "\tTrain Loss: 0.838\n",
            "\t Val. Loss: 0.404\n",
            "Epoch: 35 | Time: 0m 34s\n",
            "\tTrain Loss: 0.776\n",
            "\t Val. Loss: 0.406\n",
            "Epoch    36: reducing learning rate of group 0 to 1.0000e-04.\n",
            "Epoch: 36 | Time: 0m 34s\n",
            "\tTrain Loss: 0.783\n",
            "\t Val. Loss: 0.418\n",
            "Epoch: 37 | Time: 0m 34s\n",
            "\tTrain Loss: 0.832\n",
            "\t Val. Loss: 0.372\n",
            "Epoch: 38 | Time: 0m 34s\n",
            "\tTrain Loss: 0.711\n",
            "\t Val. Loss: 0.482\n",
            "Epoch: 39 | Time: 0m 34s\n",
            "\tTrain Loss: 0.735\n",
            "\t Val. Loss: 0.420\n",
            "Epoch: 40 | Time: 0m 34s\n",
            "\tTrain Loss: 0.740\n",
            "\t Val. Loss: 0.412\n",
            "Epoch: 41 | Time: 0m 34s\n",
            "\tTrain Loss: 0.737\n",
            "\t Val. Loss: 0.391\n",
            "Epoch: 42 | Time: 0m 34s\n",
            "\tTrain Loss: 0.633\n",
            "\t Val. Loss: 0.390\n",
            "Epoch    43: reducing learning rate of group 0 to 1.0000e-05.\n",
            "Epoch: 43 | Time: 0m 34s\n",
            "\tTrain Loss: 0.637\n",
            "\t Val. Loss: 0.389\n",
            "Epoch: 44 | Time: 0m 34s\n",
            "\tTrain Loss: 0.647\n",
            "\t Val. Loss: 0.389\n",
            "Epoch: 45 | Time: 0m 34s\n",
            "\tTrain Loss: 0.611\n",
            "\t Val. Loss: 0.388\n",
            "Epoch: 46 | Time: 0m 34s\n",
            "\tTrain Loss: 0.589\n",
            "\t Val. Loss: 0.387\n",
            "Epoch: 47 | Time: 0m 34s\n",
            "\tTrain Loss: 0.697\n",
            "\t Val. Loss: 0.386\n",
            "Epoch: 48 | Time: 0m 34s\n",
            "\tTrain Loss: 0.653\n",
            "\t Val. Loss: 0.387\n",
            "Epoch    49: reducing learning rate of group 0 to 1.0000e-06.\n",
            "Epoch: 49 | Time: 0m 34s\n",
            "\tTrain Loss: 0.643\n",
            "\t Val. Loss: 0.387\n",
            "Epoch: 50 | Time: 0m 34s\n",
            "\tTrain Loss: 0.607\n",
            "\t Val. Loss: 0.387\n",
            "Epoch: 51 | Time: 0m 34s\n",
            "\tTrain Loss: 0.601\n",
            "\t Val. Loss: 0.387\n",
            "Epoch: 52 | Time: 0m 34s\n",
            "\tTrain Loss: 0.624\n",
            "\t Val. Loss: 0.387\n",
            "Epoch: 53 | Time: 0m 34s\n",
            "\tTrain Loss: 0.643\n",
            "\t Val. Loss: 0.387\n",
            "Epoch: 54 | Time: 0m 34s\n",
            "\tTrain Loss: 0.557\n",
            "\t Val. Loss: 0.387\n",
            "Epoch    55: reducing learning rate of group 0 to 1.0000e-07.\n",
            "Epoch: 55 | Time: 0m 34s\n",
            "\tTrain Loss: 0.596\n",
            "\t Val. Loss: 0.386\n",
            "Epoch: 56 | Time: 0m 34s\n",
            "\tTrain Loss: 0.582\n",
            "\t Val. Loss: 0.386\n",
            "Epoch: 57 | Time: 0m 34s\n",
            "\tTrain Loss: 0.635\n",
            "\t Val. Loss: 0.386\n",
            "Epoch: 58 | Time: 0m 34s\n",
            "\tTrain Loss: 0.609\n",
            "\t Val. Loss: 0.386\n",
            "Epoch: 59 | Time: 0m 34s\n",
            "\tTrain Loss: 0.618\n",
            "\t Val. Loss: 0.386\n",
            "Epoch: 60 | Time: 0m 34s\n",
            "\tTrain Loss: 0.554\n",
            "\t Val. Loss: 0.386\n"
          ],
          "name": "stdout"
        }
      ]
    },
    {
      "cell_type": "markdown",
      "metadata": {
        "id": "1M_2CNYRo9WB",
        "colab_type": "text"
      },
      "source": [
        "Load the model weights to reproduce the results"
      ]
    },
    {
      "cell_type": "code",
      "metadata": {
        "id": "scmWSVvzQqfF",
        "colab_type": "code",
        "colab": {
          "base_uri": "https://localhost:8080/",
          "height": 34
        },
        "outputId": "237e822c-258a-4958-ceb7-7a8629bafc28"
      },
      "source": [
        "model.load_state_dict(torch.load('/content/drive/My Drive/DLSTM_epoch_end_final.pt'))"
      ],
      "execution_count": null,
      "outputs": [
        {
          "output_type": "execute_result",
          "data": {
            "text/plain": [
              "<All keys matched successfully>"
            ]
          },
          "metadata": {
            "tags": []
          },
          "execution_count": 8
        }
      ]
    },
    {
      "cell_type": "markdown",
      "metadata": {
        "id": "jq7I54-dpyI7",
        "colab_type": "text"
      },
      "source": [
        "Function to get the prediction using the model"
      ]
    },
    {
      "cell_type": "code",
      "metadata": {
        "id": "pAyQ4gb6xELd",
        "colab_type": "code",
        "colab": {}
      },
      "source": [
        "\n",
        "def get_predictions(head,body,ball, model, device, max_len = 100):\n",
        "\n",
        "    model.eval()\n",
        "    body_tensor = torch.from_numpy(body)\n",
        "    body_tensor = body_tensor.unsqueeze(0).cuda()\n",
        "    head_tensor = torch.from_numpy(head)\n",
        "    head_tensor = head_tensor.unsqueeze(0).cuda()\n",
        "    ball_tensor = torch.from_numpy(ball)\n",
        "    ball_tensor = ball_tensor.unsqueeze(0).cuda()\n",
        "    batch_size = 1\n",
        "    seq_len = ball.shape[0]\n",
        "    predictions = []\n",
        "    h1 = torch.zeros(1, batch_size, model.hid_dim).cuda()\n",
        "    c1 = torch.zeros(1, batch_size, model.hid_dim).cuda()\n",
        "    h2 = torch.zeros(1, batch_size, model.hid_dim).cuda()\n",
        "    c2 = torch.zeros(1, batch_size, model.hid_dim).cuda()\n",
        "    m = nn.Softmax(dim=1)\n",
        "    for i in range(seq_len):\n",
        "        embs = model.embedding(head_tensor[:,i,:], body_tensor[:,i,:], ball_tensor[:,i,:])\n",
        "        pred, h1, c1, h2, c2 = model.lstm_model(embs, h1,c1, h2, c2)\n",
        "        val, action_class = torch.max(m(pred), dim=1)\n",
        "        if val.item() > 0.9:\n",
        "            predictions.append(action_class)\n",
        "        else:\n",
        "            predictions.append(-1)\n",
        "    return predictions"
      ],
      "execution_count": null,
      "outputs": []
    },
    {
      "cell_type": "markdown",
      "metadata": {
        "id": "p4cpYHzJprs5",
        "colab_type": "text"
      },
      "source": [
        "Run the cell to get accuracy at each observation ratio"
      ]
    },
    {
      "cell_type": "code",
      "metadata": {
        "id": "fubSGRDLxG_D",
        "colab_type": "code",
        "colab": {
          "base_uri": "https://localhost:8080/",
          "height": 1000
        },
        "outputId": "e568e4e0-a21b-4f9a-f37f-358901003f54"
      },
      "source": [
        "accuracy = []\n",
        "ratios = []\n",
        "for i in range(1,101):\n",
        "  count = 0\n",
        "  ratio = i/100\n",
        "  for k in range(dataset.__len__()):\n",
        "    head, body,ball, trg = dataset.__getitem__(k)\n",
        "    action_len = len(trg)\n",
        "    last = int(action_len * ratio) + 1\n",
        "    output = get_predictions(head[0:last],body[0:last],ball[0:last], model, None)\n",
        "    if output[-1] == trg[0]:\n",
        "      count = count+1\n",
        "  acc = count/dataset.__len__()\n",
        "  accuracy.append(acc)\n",
        "  ratios.append(ratio)\n",
        "  print('Observation ratio: '+str(ratio)+' and Accuracy: '+str(acc))"
      ],
      "execution_count": null,
      "outputs": [
        {
          "output_type": "stream",
          "text": [
            "Observation ratio: 0.01 and Accuracy: 0.3375\n",
            "Observation ratio: 0.02 and Accuracy: 0.3541666666666667\n",
            "Observation ratio: 0.03 and Accuracy: 0.3625\n",
            "Observation ratio: 0.04 and Accuracy: 0.375\n",
            "Observation ratio: 0.05 and Accuracy: 0.3875\n",
            "Observation ratio: 0.06 and Accuracy: 0.3958333333333333\n",
            "Observation ratio: 0.07 and Accuracy: 0.4041666666666667\n",
            "Observation ratio: 0.08 and Accuracy: 0.4\n",
            "Observation ratio: 0.09 and Accuracy: 0.4125\n",
            "Observation ratio: 0.1 and Accuracy: 0.4166666666666667\n",
            "Observation ratio: 0.11 and Accuracy: 0.43333333333333335\n",
            "Observation ratio: 0.12 and Accuracy: 0.44166666666666665\n",
            "Observation ratio: 0.13 and Accuracy: 0.44583333333333336\n",
            "Observation ratio: 0.14 and Accuracy: 0.45416666666666666\n",
            "Observation ratio: 0.15 and Accuracy: 0.45\n",
            "Observation ratio: 0.16 and Accuracy: 0.45416666666666666\n",
            "Observation ratio: 0.17 and Accuracy: 0.4666666666666667\n",
            "Observation ratio: 0.18 and Accuracy: 0.4708333333333333\n",
            "Observation ratio: 0.19 and Accuracy: 0.475\n",
            "Observation ratio: 0.2 and Accuracy: 0.4791666666666667\n",
            "Observation ratio: 0.21 and Accuracy: 0.4791666666666667\n",
            "Observation ratio: 0.22 and Accuracy: 0.48333333333333334\n",
            "Observation ratio: 0.23 and Accuracy: 0.4875\n",
            "Observation ratio: 0.24 and Accuracy: 0.4875\n",
            "Observation ratio: 0.25 and Accuracy: 0.4875\n",
            "Observation ratio: 0.26 and Accuracy: 0.4875\n",
            "Observation ratio: 0.27 and Accuracy: 0.5\n",
            "Observation ratio: 0.28 and Accuracy: 0.5041666666666667\n",
            "Observation ratio: 0.29 and Accuracy: 0.5083333333333333\n",
            "Observation ratio: 0.3 and Accuracy: 0.5083333333333333\n",
            "Observation ratio: 0.31 and Accuracy: 0.5125\n",
            "Observation ratio: 0.32 and Accuracy: 0.5125\n",
            "Observation ratio: 0.33 and Accuracy: 0.525\n",
            "Observation ratio: 0.34 and Accuracy: 0.525\n",
            "Observation ratio: 0.35 and Accuracy: 0.5333333333333333\n",
            "Observation ratio: 0.36 and Accuracy: 0.55\n",
            "Observation ratio: 0.37 and Accuracy: 0.5541666666666667\n",
            "Observation ratio: 0.38 and Accuracy: 0.5625\n",
            "Observation ratio: 0.39 and Accuracy: 0.575\n",
            "Observation ratio: 0.4 and Accuracy: 0.5875\n",
            "Observation ratio: 0.41 and Accuracy: 0.5875\n",
            "Observation ratio: 0.42 and Accuracy: 0.6\n",
            "Observation ratio: 0.43 and Accuracy: 0.6125\n",
            "Observation ratio: 0.44 and Accuracy: 0.6166666666666667\n",
            "Observation ratio: 0.45 and Accuracy: 0.625\n",
            "Observation ratio: 0.46 and Accuracy: 0.6291666666666667\n",
            "Observation ratio: 0.47 and Accuracy: 0.6291666666666667\n",
            "Observation ratio: 0.48 and Accuracy: 0.6333333333333333\n",
            "Observation ratio: 0.49 and Accuracy: 0.6333333333333333\n",
            "Observation ratio: 0.5 and Accuracy: 0.6541666666666667\n",
            "Observation ratio: 0.51 and Accuracy: 0.6625\n",
            "Observation ratio: 0.52 and Accuracy: 0.6791666666666667\n",
            "Observation ratio: 0.53 and Accuracy: 0.6875\n",
            "Observation ratio: 0.54 and Accuracy: 0.7083333333333334\n",
            "Observation ratio: 0.55 and Accuracy: 0.7208333333333333\n",
            "Observation ratio: 0.56 and Accuracy: 0.725\n",
            "Observation ratio: 0.57 and Accuracy: 0.7291666666666666\n",
            "Observation ratio: 0.58 and Accuracy: 0.7291666666666666\n",
            "Observation ratio: 0.59 and Accuracy: 0.7291666666666666\n",
            "Observation ratio: 0.6 and Accuracy: 0.7333333333333333\n",
            "Observation ratio: 0.61 and Accuracy: 0.7375\n",
            "Observation ratio: 0.62 and Accuracy: 0.7375\n",
            "Observation ratio: 0.63 and Accuracy: 0.7416666666666667\n",
            "Observation ratio: 0.64 and Accuracy: 0.7458333333333333\n",
            "Observation ratio: 0.65 and Accuracy: 0.7458333333333333\n",
            "Observation ratio: 0.66 and Accuracy: 0.75\n",
            "Observation ratio: 0.67 and Accuracy: 0.75\n",
            "Observation ratio: 0.68 and Accuracy: 0.7541666666666667\n",
            "Observation ratio: 0.69 and Accuracy: 0.7583333333333333\n",
            "Observation ratio: 0.7 and Accuracy: 0.7583333333333333\n",
            "Observation ratio: 0.71 and Accuracy: 0.7583333333333333\n",
            "Observation ratio: 0.72 and Accuracy: 0.7583333333333333\n",
            "Observation ratio: 0.73 and Accuracy: 0.7625\n",
            "Observation ratio: 0.74 and Accuracy: 0.7625\n",
            "Observation ratio: 0.75 and Accuracy: 0.7625\n",
            "Observation ratio: 0.76 and Accuracy: 0.7625\n",
            "Observation ratio: 0.77 and Accuracy: 0.7666666666666667\n",
            "Observation ratio: 0.78 and Accuracy: 0.775\n",
            "Observation ratio: 0.79 and Accuracy: 0.7791666666666667\n",
            "Observation ratio: 0.8 and Accuracy: 0.7791666666666667\n",
            "Observation ratio: 0.81 and Accuracy: 0.7791666666666667\n",
            "Observation ratio: 0.82 and Accuracy: 0.7958333333333333\n",
            "Observation ratio: 0.83 and Accuracy: 0.7958333333333333\n",
            "Observation ratio: 0.84 and Accuracy: 0.7958333333333333\n",
            "Observation ratio: 0.85 and Accuracy: 0.8\n",
            "Observation ratio: 0.86 and Accuracy: 0.8041666666666667\n",
            "Observation ratio: 0.87 and Accuracy: 0.8083333333333333\n",
            "Observation ratio: 0.88 and Accuracy: 0.8208333333333333\n",
            "Observation ratio: 0.89 and Accuracy: 0.8208333333333333\n",
            "Observation ratio: 0.9 and Accuracy: 0.8208333333333333\n",
            "Observation ratio: 0.91 and Accuracy: 0.825\n",
            "Observation ratio: 0.92 and Accuracy: 0.825\n",
            "Observation ratio: 0.93 and Accuracy: 0.825\n",
            "Observation ratio: 0.94 and Accuracy: 0.8291666666666667\n",
            "Observation ratio: 0.95 and Accuracy: 0.8375\n",
            "Observation ratio: 0.96 and Accuracy: 0.825\n",
            "Observation ratio: 0.97 and Accuracy: 0.8333333333333334\n",
            "Observation ratio: 0.98 and Accuracy: 0.8333333333333334\n",
            "Observation ratio: 0.99 and Accuracy: 0.8166666666666667\n",
            "Observation ratio: 1.0 and Accuracy: 0.8166666666666667\n"
          ],
          "name": "stdout"
        }
      ]
    },
    {
      "cell_type": "markdown",
      "metadata": {
        "id": "NcYR7__up_RD",
        "colab_type": "text"
      },
      "source": [
        "Save the accuracy in a npy file"
      ]
    },
    {
      "cell_type": "code",
      "metadata": {
        "id": "MKhiBr8rVO2I",
        "colab_type": "code",
        "colab": {}
      },
      "source": [
        "np.save('/content/drive/My Drive/DLSTM_epoch_end_final.npy',accuracy)"
      ],
      "execution_count": null,
      "outputs": []
    },
    {
      "cell_type": "markdown",
      "metadata": {
        "id": "K2URFH61qHZy",
        "colab_type": "text"
      },
      "source": [
        "Load the accuracy array to plot it against the observation ratio"
      ]
    },
    {
      "cell_type": "code",
      "metadata": {
        "id": "Z4ThEqLBOO-v",
        "colab_type": "code",
        "colab": {}
      },
      "source": [
        "import numpy as np\n",
        "acc = np.load('/content/drive/My Drive/DLSTM_epoch_end_final.npy')\n",
        "ratios = np.arange(0.01,1.01,0.01)"
      ],
      "execution_count": null,
      "outputs": []
    },
    {
      "cell_type": "code",
      "metadata": {
        "id": "Stixy6IxAeOh",
        "colab_type": "code",
        "colab": {
          "base_uri": "https://localhost:8080/",
          "height": 295
        },
        "outputId": "e206dc5a-b237-461c-e0b7-346a4e689c44"
      },
      "source": [
        "import matplotlib.pyplot as plt\n",
        "plt.plot(ratios,acc, label='LSTM')\n",
        "plt.grid(True)\n",
        "plt.xlabel('Avg Observation ratio')\n",
        "plt.ylabel('Accuracy')\n",
        "plt.title('LSTM model')\n",
        "plt.xlim(0,1)\n",
        "plt.legend(loc=4)\n",
        "plt.show()\n"
      ],
      "execution_count": null,
      "outputs": [
        {
          "output_type": "display_data",
          "data": {
            "image/png": "[encoded data removed]",
            "text/plain": [
              "<Figure size 432x288 with 1 Axes>"
            ]
          },
          "metadata": {
            "tags": [],
            "needs_background": "light"
          }
        }
      ]
    }
  ]
}